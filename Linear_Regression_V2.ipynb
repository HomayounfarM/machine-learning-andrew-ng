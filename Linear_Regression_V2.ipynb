{
  "nbformat": 4,
  "nbformat_minor": 0,
  "metadata": {
    "colab": {
      "name": "Linear_Regression_V2.ipynb",
      "private_outputs": true,
      "provenance": [],
      "collapsed_sections": [],
      "authorship_tag": "ABX9TyNXqNmyM+qSezvqwjTpLFKo",
      "include_colab_link": true
    },
    "kernelspec": {
      "name": "python3",
      "display_name": "Python 3"
    },
    "language_info": {
      "name": "python"
    }
  },
  "cells": [
    {
      "cell_type": "markdown",
      "metadata": {
        "id": "view-in-github",
        "colab_type": "text"
      },
      "source": [
        "<a href=\"https://colab.research.google.com/github/HomayounfarM/machine-learning-andrew-ng/blob/main/Linear_Regression_V2.ipynb\" target=\"_parent\"><img src=\"https://colab.research.google.com/assets/colab-badge.svg\" alt=\"Open In Colab\"/></a>"
      ]
    },
    {
      "cell_type": "markdown",
      "source": [
        "https://github.com/HomayounfarM/machine-learning-andrew-ng\n"
      ],
      "metadata": {
        "id": "BW4yaPkHEsGy"
      }
    },
    {
      "cell_type": "markdown",
      "source": [
        "##1. Linear Regression with One Variable\n"
      ],
      "metadata": {
        "id": "xKw_3DfHGdbi"
      }
    },
    {
      "cell_type": "code",
      "execution_count": null,
      "metadata": {
        "id": "w1rgR0UFElnP"
      },
      "outputs": [],
      "source": [
        "import ssl\n",
        "ssl._create_default_https_context = ssl._create_unverified_context\n",
        "import pandas as pd\n",
        "url = \"https://raw.githubusercontent.com/HomayounfarM/machine-learning-andrew-ng/main/Data/ex1_data1.txt\"\n",
        "dataset = pd.read_csv(url, header = None)\n",
        "dataset.columns = ['population', 'profit']\n",
        "dataset.describe().T"
      ]
    },
    {
      "cell_type": "code",
      "source": [
        "# Add libraries\n",
        "import numpy as np\n",
        "import pandas as pd\n",
        "import seaborn as sns\n",
        "import matplotlib.pyplot as plt\n",
        "%matplotlib inline"
      ],
      "metadata": {
        "id": "yT0uWWEjFUjQ"
      },
      "execution_count": null,
      "outputs": []
    },
    {
      "cell_type": "code",
      "source": [
        "# Plot data\n",
        "ax = sns.scatterplot(x='population', y='profit', data=dataset)\n",
        "ax.set(xlabel='Population of City in 10,000s', ylabel='Profit in $10,000s', title='Scatter plot of training data');"
      ],
      "metadata": {
        "id": "TzjX8oB6F3bS"
      },
      "execution_count": null,
      "outputs": []
    },
    {
      "cell_type": "code",
      "source": [
        "# Implementation\n",
        "m = dataset.shape[0]\n",
        "X = np.hstack((np.ones((m,1)), dataset.population.values.reshape(-1,1)))\n",
        "y = np.array(dataset.profit.values).reshape(-1,1)\n",
        "theta = np.zeros(shape=(X.shape[1],1))\n",
        "\n",
        "iterations = 1500\n",
        "alpha = 0.01"
      ],
      "metadata": {
        "id": "chWEyl4LGCP3"
      },
      "execution_count": null,
      "outputs": []
    },
    {
      "cell_type": "code",
      "source": [
        "# Computing the Cost J([b, w])\n",
        "def compute_cost_one_variable(X, y, b, w):\n",
        "    m = y.shape[0]\n",
        "    h = X.dot((b, w)).reshape(-1,1)\n",
        "    J = (1/(2*m)) * (np.sum((h - y)**2))\n",
        "    return J"
      ],
      "metadata": {
        "id": "BXDdmMYJHYAr"
      },
      "execution_count": null,
      "outputs": []
    },
    {
      "cell_type": "code",
      "source": [
        "w = 0\n",
        "b = 0\n",
        "J = compute_cost_one_variable(X, y, w, b)\n",
        "print('With theta = [0 ; 0]\\nCost computed =', J)"
      ],
      "metadata": {
        "id": "jJC3uFdTHqi5"
      },
      "execution_count": null,
      "outputs": []
    },
    {
      "cell_type": "code",
      "source": [
        "J = compute_cost_one_variable(X, y,-1,2)\n",
        "print('With theta = [-1 ; 2]\\nCost computed =', J)"
      ],
      "metadata": {
        "id": "gU1PKyYoHrRr"
      },
      "execution_count": null,
      "outputs": []
    },
    {
      "cell_type": "code",
      "source": [
        "def gradient_descent(X, y, w, b, alpha, num_iters):\n",
        "    m = y.shape[0]\n",
        "\n",
        "    for i in range(0, num_iters):\n",
        "        h = X.dot((b, w))\n",
        "        tem_w = w - alpha * (1/m) * np.sum((h.reshape(-1,1) - y)*X[:,1:2])\n",
        "        tem_b = b - alpha * (1/m) * np.sum(h.reshape(-1,1) - y)\n",
        "\n",
        "        w = tem_w\n",
        "        b = tem_b\n",
        "\n",
        "    return w, b\n",
        "\n",
        "w = 0\n",
        "b = 0\n",
        "[w, b]= gradient_descent(X, y, w, b, alpha, iterations)\n",
        "print('w and b found by gradient descent:\\n', [w, b])"
      ],
      "metadata": {
        "id": "eKlAmURvHrM4"
      },
      "execution_count": null,
      "outputs": []
    },
    {
      "cell_type": "code",
      "source": [
        "# Plot the linear fit:\n",
        "ax = sns.scatterplot(x='population', y='profit', data=dataset)\n",
        "plt.plot(X[:,1], X.dot([b, w]), color='r')\n",
        "ax.set(xlabel='Population of City in 10,000s', ylabel='Profit in $10,000s', title='Training data with linear regression fit');"
      ],
      "metadata": {
        "id": "LvK9YpiLH_Xp"
      },
      "execution_count": null,
      "outputs": []
    },
    {
      "cell_type": "code",
      "source": [
        "y_pred = np.array([1, 3.5]).dot([b, w])\n",
        "print(f'For population = 35,000, we predict a profit of {y_pred*10000}')\n",
        "y_pred = np.array([1, 7]).dot([b, w])\n",
        "f'For population = 70,000, we predict a profit of {y_pred*10000}'"
      ],
      "metadata": {
        "id": "W4o6QjAnIFOQ"
      },
      "execution_count": null,
      "outputs": []
    },
    {
      "cell_type": "code",
      "source": [
        "# Visualizing J([b, w])\n",
        "theta0_vals = np.linspace(-10, 10, 100)\n",
        "theta1_vals = np.linspace(-1, 4, 100)"
      ],
      "metadata": {
        "id": "HQy7DRw6INJJ"
      },
      "execution_count": null,
      "outputs": []
    },
    {
      "cell_type": "code",
      "source": [
        "J_vals = np.zeros(shape=(len(theta0_vals), len(theta1_vals)))"
      ],
      "metadata": {
        "id": "gJjdO34TIdaJ"
      },
      "execution_count": null,
      "outputs": []
    },
    {
      "cell_type": "code",
      "source": [
        "for i in range(0, len(theta0_vals)):\n",
        "    for j in range(0, len(theta1_vals)):\n",
        "        J_vals[i,j] = compute_cost_one_variable(X, y, [theta0_vals[i]], [theta1_vals[j]])"
      ],
      "metadata": {
        "id": "1Z7mdrokIYWA"
      },
      "execution_count": null,
      "outputs": []
    },
    {
      "cell_type": "code",
      "source": [
        "ax = plt.contour(theta0_vals, theta1_vals, np.transpose(J_vals), levels=np.logspace(-2,3,20))\n",
        "plt.plot(b, w, marker='x', color='r');\n",
        "plt.xlabel('b');\n",
        "plt.ylabel('w');\n",
        "plt.title('Contour, showing minimum');"
      ],
      "metadata": {
        "id": "p8-z53UfIbv_"
      },
      "execution_count": null,
      "outputs": []
    },
    {
      "cell_type": "markdown",
      "source": [
        "## Equivalent Code using Scikit-Learn\n"
      ],
      "metadata": {
        "id": "IqlVseV170FJ"
      }
    },
    {
      "cell_type": "code",
      "source": [
        "from sklearn.linear_model import LinearRegression\n",
        "lin_reg = LinearRegression()\n",
        "lin_reg.fit(dataset.population.values.reshape(-1,1), \n",
        "            dataset.profit.values.reshape(-1,1))"
      ],
      "metadata": {
        "id": "yKhecgmX7_nJ"
      },
      "execution_count": null,
      "outputs": []
    },
    {
      "cell_type": "code",
      "source": [
        "lin_reg.intercept_, lin_reg.coef_"
      ],
      "metadata": {
        "id": "eJpU3klK8D5J"
      },
      "execution_count": null,
      "outputs": []
    },
    {
      "cell_type": "markdown",
      "source": [
        "##2. Linear Regression with Multiple Variables"
      ],
      "metadata": {
        "id": "3F7IA17QGnmQ"
      }
    },
    {
      "cell_type": "code",
      "source": [
        "import ssl\n",
        "ssl._create_default_https_context = ssl._create_unverified_context\n",
        "import pandas as pd\n",
        "url = \"https://raw.githubusercontent.com/HomayounfarM/machine-learning-andrew-ng/main/Data/ex1_data2.txt\"\n",
        "dataset2 = pd.read_csv(url, header=None)\n",
        "dataset2.columns = ['house_size', 'bedrooms', 'house_price']\n",
        "dataset2.describe().T"
      ],
      "metadata": {
        "id": "hqFKOmfXQQHv"
      },
      "execution_count": null,
      "outputs": []
    },
    {
      "cell_type": "code",
      "source": [
        "def normalize_feature(X):\n",
        "  import pandas as pd\n",
        "  mean = np.mean(X, 0)\n",
        "  std = np.std(X, 0, ddof=1)\n",
        "  X_normalized = (X-mean)/std\n",
        "  return X_normalized, mean, std"
      ],
      "metadata": {
        "id": "HSSqJduUGzEJ"
      },
      "execution_count": null,
      "outputs": []
    },
    {
      "cell_type": "code",
      "source": [
        "normalized_X, mu_x, sigma_x = normalize_feature(dataset2[['house_size', 'bedrooms']])\n",
        "normalized_y, mu_y, sigma_y = normalize_feature(dataset2[['house_price']])"
      ],
      "metadata": {
        "id": "PKqd8XorcFr_"
      },
      "execution_count": null,
      "outputs": []
    },
    {
      "cell_type": "code",
      "source": [
        "# Implementation using pandas dataframe (as an exersice)\n",
        "m = len(dataset2)\n",
        "X = pd.DataFrame(np.hstack((np.ones((m,1)), normalized_X)))\n",
        "y = pd.DataFrame(normalized_y.house_price.values.reshape(-1,1))\n",
        "theta = pd.DataFrame(np.zeros((X.shape[1],1)))\n",
        "\n",
        "iterations = 1500\n",
        "alpha = 0.01\n",
        "print(theta.head(5))\n",
        "print(X.head(5))\n",
        "h = X.dot(theta)\n"
      ],
      "metadata": {
        "id": "DbNxPjjsVLsK"
      },
      "execution_count": null,
      "outputs": []
    },
    {
      "cell_type": "code",
      "source": [
        "# Computing the Cost J(theta)\n",
        "def compute_cost_one_variable(X, y, theta):\n",
        "    m = y.shape[0]\n",
        "    h = X.dot(theta)\n",
        "    J = (1/(2*m)) * (np.sum((h - y)**2))\n",
        "    return J\n",
        "compute_cost_one_variable(X, y, theta)"
      ],
      "metadata": {
        "id": "G1vltF3ec5xx"
      },
      "execution_count": null,
      "outputs": []
    },
    {
      "cell_type": "code",
      "source": [
        "# Implementation using numpy array\n",
        "m = len(dataset2)\n",
        "X = np.hstack((np.ones((m,1)), normalized_X))\n",
        "y = normalized_y.house_price.values.reshape(-1,1)\n",
        "theta = np.ones((X.shape[1],1))\n",
        "\n",
        "iterations = 50\n",
        "alpha = 0.01"
      ],
      "metadata": {
        "id": "uiTmg-FMdsbo"
      },
      "execution_count": null,
      "outputs": []
    },
    {
      "cell_type": "code",
      "source": [
        "# Computing the Cost J(theta)\n",
        "def compute_cost_one_variable(X, y, theta):\n",
        "    m = y.shape[0]\n",
        "    h = X.dot(theta)\n",
        "    J = (1/(2*m)) * (np.sum((h - y)**2))\n",
        "    return J\n",
        "compute_cost_one_variable(X, y, theta)"
      ],
      "metadata": {
        "id": "xhpQlyY5gu4I"
      },
      "execution_count": null,
      "outputs": []
    },
    {
      "cell_type": "code",
      "source": [
        "# Gradient Descent\n",
        "def gradient_descent(X, y, theta, alpha, num_iters):\n",
        "    m = y.shape[0]\n",
        "    J_history = np.zeros(shape=(num_iters, 1))\n",
        "\n",
        "    for i in range(0, num_iters):\n",
        "        h = X.dot(theta)\n",
        "        diff_hy = h - y\n",
        "        delta = (1/m) * (diff_hy.T.dot(X))\n",
        "        theta = theta - (alpha * delta.T)\n",
        "        J_history[i] = compute_cost_one_variable(X, y, theta)\n",
        "\n",
        "    return theta, J_history\n",
        "theta, J_history = gradient_descent(X, y, theta, alpha, iterations);"
      ],
      "metadata": {
        "id": "yZe8BMltfQ7P"
      },
      "execution_count": null,
      "outputs": []
    },
    {
      "cell_type": "code",
      "source": [
        "# Selecting learning rate\n",
        "alpha = [0.3, 0.1, 0.03, 0.01]\n",
        "colors = ['b','r','g','c']\n",
        "num_iters = 50"
      ],
      "metadata": {
        "id": "eV9RP5P-hHdg"
      },
      "execution_count": null,
      "outputs": []
    },
    {
      "cell_type": "code",
      "source": [
        "for i in range(0, len(alpha)):\n",
        "    theta = np.zeros((X.shape[1],1))\n",
        "    theta, J_history = gradient_descent(X, y, theta, alpha[i], num_iters)\n",
        "    plt.plot(range(len(J_history)), J_history, colors[i], label='Alpha {}'.format(alpha[i]))\n",
        "plt.xlabel('Number of iterations');\n",
        "plt.ylabel('Cost J');\n",
        "plt.title('Selecting learning rates');\n",
        "plt.legend()\n",
        "plt.show()"
      ],
      "metadata": {
        "id": "D98v24_ghKzp"
      },
      "execution_count": null,
      "outputs": []
    },
    {
      "cell_type": "code",
      "source": [
        "iterations = 250\n",
        "alpha = 0.1\n",
        "theta, _ = gradient_descent(X, y, theta, alpha, iterations)\n",
        "\n",
        "print('Theta found by gradient descent:')\n",
        "print(theta)"
      ],
      "metadata": {
        "id": "ode0EDxZhNFH"
      },
      "execution_count": null,
      "outputs": []
    },
    {
      "cell_type": "code",
      "source": [
        "# Estimate the price of a 1650 sq-ft, 3 bedrooms house\n",
        "sqft = (1650 - mu_x[0])/sigma_x[0]\n",
        "bedrooms = (3 - mu_x[1])/sigma_x[1]\n",
        "y_pred = theta[0] + theta[1]*sqft + theta[2]*bedrooms\n",
        "y_pred = y_pred*sigma_y+mu_y\n",
        "f'Price of a house with 1650 square feet and 3 bedrooms: {y_pred[0]}$'"
      ],
      "metadata": {
        "id": "cwfWulAShQbv"
      },
      "execution_count": null,
      "outputs": []
    },
    {
      "cell_type": "code",
      "source": [
        "# Normal Equations\n",
        "def normal_eqn(X, y):\n",
        "    inv = np.linalg.pinv(X.T.dot(X))\n",
        "    theta = inv.dot(X.T).dot(y)\n",
        "    return theta\n",
        "Xe = np.hstack((np.ones((m,1)),dataset2[['house_size', 'bedrooms']].values))\n",
        "theta_e = normal_eqn(Xe, y)\n",
        "theta_e\n",
        "\n",
        "y_pred = theta_e[0] + theta_e[1]*1650 + theta_e[2]*3\n",
        "y_pred = y_pred*sigma_y+mu_y\n",
        "f'Price of a house with 1650 square feet and 3 bedrooms: {y_pred[0]}$'"
      ],
      "metadata": {
        "id": "cEGleDEJhV9P"
      },
      "execution_count": null,
      "outputs": []
    },
    {
      "cell_type": "markdown",
      "source": [
        "## Equivalent Code using Scikit-Learn"
      ],
      "metadata": {
        "id": "ea4uDHglYLM-"
      }
    },
    {
      "cell_type": "code",
      "source": [
        "from sklearn.linear_model import LinearRegression\n",
        "lin_reg = LinearRegression()\n",
        "lin_reg.fit(normalized_X, y)"
      ],
      "metadata": {
        "id": "ZLvRQc26hfSH"
      },
      "execution_count": null,
      "outputs": []
    },
    {
      "cell_type": "code",
      "source": [
        "lin_reg.intercept_, lin_reg.coef_"
      ],
      "metadata": {
        "id": "on-WGahwhjAm"
      },
      "execution_count": null,
      "outputs": []
    }
  ]
}