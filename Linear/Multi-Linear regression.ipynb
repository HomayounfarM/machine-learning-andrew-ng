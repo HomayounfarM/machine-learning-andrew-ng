{
  "nbformat": 4,
  "nbformat_minor": 0,
  "metadata": {
    "colab": {
      "name": "Copy of Untitled4.ipynb",
      "private_outputs": true,
      "provenance": [],
      "collapsed_sections": [
        "3F7IA17QGnmQ"
      ],
      "authorship_tag": "ABX9TyMCHT1NvjVIvL6HVSKhE3Mm",
      "include_colab_link": true
    },
    "kernelspec": {
      "name": "python3",
      "display_name": "Python 3"
    },
    "language_info": {
      "name": "python"
    }
  },
  "cells": [
    {
      "cell_type": "markdown",
      "metadata": {
        "id": "view-in-github",
        "colab_type": "text"
      },
      "source": [
        "<a href=\"https://colab.research.google.com/github/HomayounfarM/machine-learning-andrew-ng/blob/main/Linear/Multi-Linear%20regression.ipynb\" target=\"_parent\"><img src=\"https://colab.research.google.com/assets/colab-badge.svg\" alt=\"Open In Colab\"/></a>"
      ]
    },
    {
      "cell_type": "markdown",
      "source": [
        "https://github.com/HomayounfarM/machine-learning-andrew-ng\n"
      ],
      "metadata": {
        "id": "BW4yaPkHEsGy"
      }
    },
    {
      "cell_type": "markdown",
      "source": [
        "##1. Linear Regression with One Variable\n"
      ],
      "metadata": {
        "id": "xKw_3DfHGdbi"
      }
    },
    {
      "cell_type": "code",
      "execution_count": null,
      "metadata": {
        "id": "w1rgR0UFElnP"
      },
      "outputs": [],
      "source": [
        "import ssl\n",
        "ssl._create_default_https_context = ssl._create_unverified_context\n",
        "import pandas as pd\n",
        "url = \"https://raw.githubusercontent.com/HomayounfarM/machine-learning-andrew-ng/main/Data/ex1_data1.txt\"\n",
        "dataset = pd.read_csv(url)\n",
        "dataset.columns = ['population', 'profit']"
      ]
    },
    {
      "cell_type": "code",
      "source": [
        "# Add libraries\n",
        "import numpy as np\n",
        "import pandas as pd\n",
        "import seaborn as sns\n",
        "import matplotlib.pyplot as plt\n",
        "%matplotlib inline"
      ],
      "metadata": {
        "id": "yT0uWWEjFUjQ"
      },
      "execution_count": null,
      "outputs": []
    },
    {
      "cell_type": "code",
      "source": [
        "# Plot data\n",
        "ax = sns.scatterplot(x='population', y='profit', data=dataset)\n",
        "ax.set(xlabel='Population of City in 10,000s', ylabel='Profit in $10,000s', title='Scatter plot of training data');"
      ],
      "metadata": {
        "id": "TzjX8oB6F3bS"
      },
      "execution_count": null,
      "outputs": []
    },
    {
      "cell_type": "code",
      "source": [
        "# Implementation\n",
        "m = dataset.shape[0]\n",
        "X = np.hstack((np.ones((m,1)), dataset.population.values.reshape(-1,1)))\n",
        "y = np.array(dataset.profit.values).reshape(-1,1)\n",
        "x = np.array(dataset.population.values).reshape(-1,1)\n",
        "theta = np.zeros(shape=(X.shape[1],1))\n",
        "\n",
        "iterations = 1500\n",
        "alpha = 0.01"
      ],
      "metadata": {
        "id": "chWEyl4LGCP3"
      },
      "execution_count": null,
      "outputs": []
    },
    {
      "cell_type": "code",
      "source": [
        "# Computing the Cost J([b, w])\n",
        "def compute_cost_one_variable(X, y, b, w):\n",
        "    m = y.shape[0]\n",
        "    h = X.dot((b, w)).reshape(-1,1)\n",
        "    J = (1/(2*m)) * (np.sum((h - y)**2))\n",
        "    return J"
      ],
      "metadata": {
        "id": "BXDdmMYJHYAr"
      },
      "execution_count": null,
      "outputs": []
    },
    {
      "cell_type": "code",
      "source": [
        "w = 0\n",
        "b = 0\n",
        "J = compute_cost_one_variable(X, y, w, b)\n",
        "print('With theta = [0 ; 0]\\nCost computed =', J)"
      ],
      "metadata": {
        "id": "jJC3uFdTHqi5"
      },
      "execution_count": null,
      "outputs": []
    },
    {
      "cell_type": "code",
      "source": [
        "J = compute_cost_one_variable(X, y,-1,2)\n",
        "print('With theta = [-1 ; 2]\\nCost computed =', J)"
      ],
      "metadata": {
        "id": "gU1PKyYoHrRr"
      },
      "execution_count": null,
      "outputs": []
    },
    {
      "cell_type": "code",
      "source": [
        "def gradient_descent(x, y, w, b, alpha, num_iters):\n",
        "    m = y.shape[0]\n",
        "\n",
        "    for i in range(0, num_iters):\n",
        "        h = X.dot((b, w))\n",
        "        tem_w = w - alpha * (1/m) * np.sum((h.reshape(-1,1) - y)*x)\n",
        "        tem_b = b - alpha * (1/m) * np.sum(h.reshape(-1,1) - y)\n",
        "\n",
        "        w = tem_w\n",
        "        b = tem_b\n",
        "\n",
        "    return w, b\n",
        "\n",
        "w = 0\n",
        "b = 0\n",
        "[w, b]= gradient_descent(X, y, w, b, alpha, iterations)\n",
        "print('w and b found by gradient descent:\\n', [w, b])"
      ],
      "metadata": {
        "id": "eKlAmURvHrM4"
      },
      "execution_count": null,
      "outputs": []
    },
    {
      "cell_type": "code",
      "source": [
        "# Plot the linear fit:\n",
        "ax = sns.scatterplot(x='population', y='profit', data=dataset)\n",
        "plt.plot(X[:,1], X.dot([b, w]), color='r')\n",
        "ax.set(xlabel='Population of City in 10,000s', ylabel='Profit in $10,000s', title='Training data with linear regression fit');"
      ],
      "metadata": {
        "id": "LvK9YpiLH_Xp"
      },
      "execution_count": null,
      "outputs": []
    },
    {
      "cell_type": "code",
      "source": [
        "y_pred = np.array([1, 3.5]).dot([b, w])\n",
        "print(f'For population = 35,000, we predict a profit of {y_pred*10000}')\n",
        "y_pred = np.array([1, 7]).dot([b, w])\n",
        "f'For population = 70,000, we predict a profit of {y_pred*10000}'"
      ],
      "metadata": {
        "id": "W4o6QjAnIFOQ"
      },
      "execution_count": null,
      "outputs": []
    },
    {
      "cell_type": "code",
      "source": [
        "# Visualizing J([b, w])\n",
        "theta0_vals = np.linspace(-10, 10, 100)\n",
        "theta1_vals = np.linspace(-1, 4, 100)"
      ],
      "metadata": {
        "id": "HQy7DRw6INJJ"
      },
      "execution_count": null,
      "outputs": []
    },
    {
      "cell_type": "code",
      "source": [
        "J_vals = np.zeros(shape=(len(theta0_vals), len(theta1_vals)))"
      ],
      "metadata": {
        "id": "gJjdO34TIdaJ"
      },
      "execution_count": null,
      "outputs": []
    },
    {
      "cell_type": "code",
      "source": [
        "for i in range(0, len(theta0_vals)):\n",
        "    for j in range(0, len(theta1_vals)):\n",
        "        J_vals[i,j] = compute_cost_one_variable(X, y, [theta0_vals[i]], [theta1_vals[j]])"
      ],
      "metadata": {
        "id": "1Z7mdrokIYWA"
      },
      "execution_count": null,
      "outputs": []
    },
    {
      "cell_type": "code",
      "source": [
        "ax = plt.contour(theta0_vals, theta1_vals, np.transpose(J_vals), levels=np.logspace(-2,3,20))\n",
        "plt.plot(b, w, marker='x', color='r');\n",
        "plt.xlabel('b');\n",
        "plt.ylabel('w');\n",
        "plt.title('Contour, showing minimum');"
      ],
      "metadata": {
        "id": "p8-z53UfIbv_"
      },
      "execution_count": null,
      "outputs": []
    },
    {
      "cell_type": "markdown",
      "source": [
        "##2. Linear Regression with Multiple Variables"
      ],
      "metadata": {
        "id": "3F7IA17QGnmQ"
      }
    },
    {
      "cell_type": "code",
      "source": [
        "# Plot data\n",
        "ax = sns.scatterplot(x='population', y='profit', data=dataset)\n",
        "ax.set(xlabel='Population of City in 10,000s', ylabel='Profit in $10,000s', title='Scatter plot of training data');"
      ],
      "metadata": {
        "id": "HSSqJduUGzEJ"
      },
      "execution_count": null,
      "outputs": []
    }
  ]
}